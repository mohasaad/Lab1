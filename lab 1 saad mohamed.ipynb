{
 "metadata": {
  "name": "lab 1 saad mohamed.ipynb"
 },
 "nbformat": 3,
 "nbformat_minor": 0,
 "worksheets": [
  {
   "cells": [
    {
     "cell_type": "code",
     "collapsed": false,
     "input": [
      "sys.path.append('C:\\\\Program Files (x86)\\\\ArcGIS\\\\Desktop10.2\\\\bin')\n",
      "sys.path.append('C:\\\\Program Files (x86)\\\\ArcGIS\\\\Desktop10.2\\\\arcpy')\n",
      "sys.path.append('C:\\\\Program Files (x86)\\\\ArcGIS\\\\Desktop10.2\\\\ArcToolbox\\\\Scripts')\n",
      "import arcpy\n",
      "\n",
      "#Set the stage to begin the play\n",
      "\n",
      "arcpy.env.workspace = \"H:\\Data\\saep_bg10_Saad\"\n",
      "\n"
     ],
     "language": "python",
     "metadata": {},
     "outputs": [],
     "prompt_number": 2
    },
    {
     "cell_type": "markdown",
     "metadata": {},
     "source": [
      "So I've set my workspace to my files and setup this notebook to use arcpy.  Now we begin.  We are going to need a new field to account for the name of the County being added to each attribute table. So after loading the geodatabase and the database, what would be joined in Arcmap, will be filled in using arcpy."
     ]
    },
    {
     "cell_type": "code",
     "collapsed": false,
     "input": [
      "\n",
      "WaData = \"saep_bg10.dbf\"\n",
      "FipsNames = \"WashingtonFIPS.dbf\"\n",
      "#Use these variables for easy data entry\n",
      "#Now to add a County_Name text field\n",
      "\n"
     ],
     "language": "python",
     "metadata": {},
     "outputs": [],
     "prompt_number": 3
    },
    {
     "cell_type": "markdown",
     "metadata": {},
     "source": [
      "I need to join the WashingtonFIPS DBF to the saep_bg10.dbf using the FIPSCounty field and the COUNTYFP10.  Then I use a cursor to scan the CountyName field and .....I just wasted time trying to add a field for CountyN"
     ]
    },
    {
     "cell_type": "code",
     "collapsed": false,
     "input": [
      "#this is the join operation that bridges the two databases together inside the saep_bg10.dbf.  Will rewrite this to output\n",
      "#to a new dbf file after I get everything working at the later.\n",
      "arcpy.JoinField_management (WaData, \"COUNTYFP10\", FipsNames, \"FIPSCounty\", \"Joined_with_countynames\")"
     ],
     "language": "python",
     "metadata": {},
     "outputs": [
      {
       "metadata": {},
       "output_type": "pyout",
       "prompt_number": 4,
       "text": [
        "<Result 'H:\\\\Data\\\\saep_bg10_Saad\\\\saep_bg10.dbf'>"
       ]
      }
     ],
     "prompt_number": 4
    },
    {
     "cell_type": "markdown",
     "metadata": {},
     "source": [
      "The goal of this assignment is to turn in a GeoJSON file named for each county that contained polygons for each census block and data for those blocks.  If I was doing this in ArcMap, I would have joined the county names to the shape file for the census blocks, selected each census block in the attribute table using the select by attribute screen and created a new layer for each county, eliminated the lines between them, and given each layer similar colors. "
     ]
    },
    {
     "cell_type": "markdown",
     "metadata": {},
     "source": [
      "Here, I have joined the DBF files with Arcpy, and have attribute and spatial data tied to the proper county names under CountyNa_1.  "
     ]
    },
    {
     "cell_type": "code",
     "collapsed": false,
     "input": [
      "Name_list = [] #This is the list of County Names I'm creating\n",
      "cursor = arcpy.da.SearchCursor(FipsNames,[\"CountyName\"]) #this is the cursor I have to track the names\n",
      "for row in cursor:\n",
      "    Name_list.append(row[0]) #Go down the column of names and write them to the list\n",
      "\n",
      "#print Name_list\n",
      "del row\n",
      "del cursor\n"
     ],
     "language": "python",
     "metadata": {},
     "outputs": [],
     "prompt_number": 5
    },
    {
     "cell_type": "code",
     "collapsed": false,
     "input": [
      "#arcpy.env.overwriteOutput = False #testing out the overwrite procedures\n",
      "#print arcpy.env.overwriteOutput"
     ],
     "language": "python",
     "metadata": {},
     "outputs": [],
     "prompt_number": 6
    },
    {
     "cell_type": "code",
     "collapsed": false,
     "input": [
      "\n",
      "arcpy.env.overwriteOutput = True #allowing overwrites for this script\n",
      "arcpy.MakeFeatureLayer_management(WaData, \"Shapefile\") #create a new layer from the initial database\n",
      "\n",
      "#this is the dead land of scrap code I swept away\n",
      "\n",
      "for Name in (Name_list): #for every name on Name_List\n",
      "    arcpy.SelectLayerByAttribute_management(\"Shapefile\",  \"NEW_SELECTION\", \" CountyName = 'Name' \") #Go through the \"Shapefile\" layer, make a new selection from everything in CounyName that matches the Name entry\n",
      "    #what's important here is that CountyName sits alone and Name is in single quotes to match the SQL standards\n",
      "    arcpy.CopyFeatures_management(\"Shapefile\", Name) #then FROM Shapefile, create a new shapefile called Name\n",
      "   \n",
      "arcpy.env.overwriteOutput = False #Turn off overwrite\n",
      "print arcpy.env.overwriteOutput #make sure overwrite is off"
     ],
     "language": "python",
     "metadata": {},
     "outputs": [
      {
       "output_type": "stream",
       "stream": "stdout",
       "text": [
        "False\n"
       ]
      }
     ],
     "prompt_number": 7
    },
    {
     "cell_type": "markdown",
     "metadata": {},
     "source": [
      "Now the nitty gritty, is there a way for me to take each row and move it over to new database Name +\".gdb.  I should have read the instructions that said I should do it with shp files"
     ]
    },
    {
     "cell_type": "markdown",
     "metadata": {},
     "source": [
      "This previous code block was built upon research by Presont and George as to which arcpy management string would work concerning the single operation of transferring one singular type of element into a new shape file. Specifically, if I was doing this in Arcmap, how would I accomplish this with a line or twenty of code?  The two gentlemen saved me a great deal of time experimenting with different _management commands and let me to Select by attribute. Which was near the bottom of my list and forsaken many times.  However, running in the python window was not enough as I had to secure the iPython worksapce to work well and reset the overwrite condition to allow me to run this in a sane fasion.  overwriting teh \"shapefile\" name each time allows me to run this script continually and resets at teh end. \n",
      "\n",
      "Further experimentation was needed to build the code to a point where it compiled under SQL conditions and selected what I needed.  George and Prescott's use of the arcpy editor made me realize several mistakes earlier in my code concerning the worksapce I was using, and the assumpion that this entire code was running in H:\\Data\\saep_bg10_Saad when it was in fact running in \"H:\\Data\\saep_bg10_Saad/saep_bg10.dbf.  I don't understand why but this had a big difference in my outputs."
     ]
    },
    {
     "cell_type": "code",
     "collapsed": false,
     "input": [
      "#running teh GeoJSON scripts from the website\n",
      "from subprocess import call\n",
      "import os\n",
      "\n",
      "os.environ[\"GDAL_DATA\"] = \"C:\\\\OSGeo4W\\\\share\\\\gdal\"\n",
      "os.environ[\"GDAL_DRIVER_PATH\"] = \"C:\\\\OSGeo4W\\\\bin\\\\gdalplugins\"\n",
      "os.environ[\"PROJ_LIB\"] = \"C:\\\\OSGeo4W\\\\share\\\\proj\"\n",
      "os.environ[\"PATH\"] = \"C:\\\\OSGeo4W\\\\bin;\"+os.environ[\"PATH\"]+\";C:\\\\OSGeo4W\\\\apps\\\\msys\\\\bin;C:\\\\OSGeo4W\\\\apps\\\\Python27\\\\Scripts\""
     ],
     "language": "python",
     "metadata": {},
     "outputs": [],
     "prompt_number": 8
    },
    {
     "cell_type": "markdown",
     "metadata": {},
     "source": [
      "I may not get this done in time but the hard part is getting the GeoJSON code to run for absolutely every shape file.  "
     ]
    },
    {
     "cell_type": "code",
     "collapsed": false,
     "input": [
      "for Name in Name_list:    \n",
      "    eggs =\"H:/Data/saep_bg10_Saad/\" + Name + \".geojson\" #eggs go in pickles\n",
      "    birds =\"H:/Data/saep_bg10_Saad/\" + Name + \".shp\" #birds lay eggs\n",
      "    call(['C:\\\\OSGeo4W\\\\bin\\\\ogr2ogr',\n",
      "      '-f','GeoJSON','-t_srs','WGS84',\n",
      "      '-s_srs','EPSG:2927',   \n",
      "      eggs, #deposit folder\n",
      "      birds]) #origin of data folder, currently our workspace"
     ],
     "language": "python",
     "metadata": {},
     "outputs": [],
     "prompt_number": 9
    },
    {
     "cell_type": "markdown",
     "metadata": {},
     "source": [
      "So after experimenting with every line of code, slowly switching out constants for variables, I achieved success. Hoorah me, with 25 minutes left for part 2. "
     ]
    },
    {
     "cell_type": "markdown",
     "metadata": {},
     "source": [
      "and I just discovered that I forgot to convert the EPSG to 2927"
     ]
    },
    {
     "cell_type": "code",
     "collapsed": false,
     "input": [],
     "language": "python",
     "metadata": {},
     "outputs": []
    }
   ],
   "metadata": {}
  }
 ]
}