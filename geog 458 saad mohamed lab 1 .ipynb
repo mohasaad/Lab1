{
 "metadata": {
  "name": "geog 458 saad mohamed lab 1 .ipynb"
 },
 "nbformat": 3,
 "nbformat_minor": 0,
 "worksheets": [
  {
   "cells": [
    {
     "cell_type": "code",
     "collapsed": false,
     "input": [
      "sys.path.append('C:\\\\Program Files (x86)\\\\ArcGIS\\\\Desktop10.2\\\\bin')\n",
      "sys.path.append('C:\\\\Program Files (x86)\\\\ArcGIS\\\\Desktop10.2\\\\arcpy')\n",
      "sys.path.append('C:\\\\Program Files (x86)\\\\ArcGIS\\\\Desktop10.2\\\\ArcToolbox\\\\Scripts')\n",
      "import arcpy\n",
      "#Set the stage to begin the play\n",
      "\n",
      "arcpy.env.workspace = \"H:\\Data\\saep_bg10_Saad\\saep_bg10.dbf\"\n"
     ],
     "language": "python",
     "metadata": {},
     "outputs": [],
     "prompt_number": 11
    },
    {
     "cell_type": "markdown",
     "metadata": {},
     "source": [
      "So I've set my workspace to my files and setup this notebook to use arcpy.  Now we begin.  We are going to need a new field to account for the name of the County being added to each attribute table. So after loading the geodatabase and the database, what would be joined in Arcmap, will be filled in using arcpy."
     ]
    },
    {
     "cell_type": "code",
     "collapsed": false,
     "input": [
      "\n",
      "WaData = \"saep_bg10.dbf\"\n",
      "FipsNames = \"WashingtonFIPS.dbf\"\n",
      "#Use these variables for easy data entry\n",
      "#Now to add a County_Name text field\n",
      "\n"
     ],
     "language": "python",
     "metadata": {},
     "outputs": [],
     "prompt_number": 12
    },
    {
     "cell_type": "markdown",
     "metadata": {},
     "source": [
      "I need to join the WashingtonFIPS DBF to the saep_bg10.dbf using the FIPSCounty field and the COUNTYFP10.  Then I use a cursor to scan the CountyName field and .....I just wasted time trying to add a field for CountyN"
     ]
    },
    {
     "cell_type": "code",
     "collapsed": false,
     "input": [
      "arcpy.JoinField_management (WaData, \"COUNTYFP10\", FipsNames, \"FIPSCounty\")"
     ],
     "language": "python",
     "metadata": {},
     "outputs": [
      {
       "metadata": {},
       "output_type": "pyout",
       "prompt_number": 16,
       "text": [
        "<Result 'H:\\\\Data\\\\saep_bg10_Saad\\\\saep_bg10.dbf\\\\saep_bg10.dbf'>"
       ]
      }
     ],
     "prompt_number": 16
    },
    {
     "cell_type": "code",
     "collapsed": false,
     "input": [],
     "language": "python",
     "metadata": {},
     "outputs": [],
     "prompt_number": 2
    },
    {
     "cell_type": "code",
     "collapsed": false,
     "input": [],
     "language": "python",
     "metadata": {},
     "outputs": []
    }
   ],
   "metadata": {}
  }
 ]
}